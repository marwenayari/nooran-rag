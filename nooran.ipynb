{
 "cells": [
  {
   "cell_type": "markdown",
   "id": "f5e5e1f3",
   "metadata": {},
   "source": [
    "# Arabic Story Generation with IBM Watsonx and ChromaDB\n",
    "\n",
    "This notebook demonstrates how to use IBM Watsonx language model in conjunction with ChromaDB to generate Arabic stories based on given keywords. The workflow involves indexing Arabic text from PDF documents, querying similar documents, constructing prompts, and generating stories using the language model."
   ]
  },
  {
   "cell_type": "markdown",
   "id": "2e0e3c9f",
   "metadata": {},
   "source": [
    "## 1. Setup and Imports\n",
    "\n",
    "In this section, we import the necessary libraries and load environment variables required for authentication and configuration."
   ]
  },
  {
   "cell_type": "code",
   "execution_count": 1,
   "id": "5102d24f",
   "metadata": {},
   "outputs": [],
   "source": [
    "import os\n",
    "from dotenv import load_dotenv\n",
    "load_dotenv('.env', override=True)\n",
    "import requests"
   ]
  },
  {
   "cell_type": "markdown",
   "id": "e55130d3",
   "metadata": {},
   "source": [
    "## 2. Authentication with IBM Cloud\n",
    "\n",
    "We authenticate with IBM Cloud using the API key to obtain an access token, which will be used for subsequent API calls."
   ]
  },
  {
   "cell_type": "code",
   "execution_count": 2,
   "id": "643938a4",
   "metadata": {},
   "outputs": [
    {
     "name": "stdout",
     "output_type": "stream",
     "text": [
      "Token retrieved\n"
     ]
    }
   ],
   "source": [
    "api_key = os.getenv('IBM_API_KEY')\n",
    "\n",
    "url = 'https://iam.cloud.ibm.com/identity/token'\n",
    "headers = {'Content-Type': 'application/x-www-form-urlencoded'}\n",
    "data = {\n",
    "    'grant_type': 'urn:ibm:params:oauth:grant-type:apikey',\n",
    "    'apikey': api_key\n",
    "}\n",
    "\n",
    "response = requests.post(url, headers=headers, data=data)\n",
    "\n",
    "if response.status_code == 200:\n",
    "    print(\"Token retrieved\")\n",
    "else:\n",
    "    print(f\"Error: {response.status_code}\")\n",
    "    print(response.text)\n",
    "\n",
    "res_format = response.json()\n",
    "ACCESS_TOKEN = res_format['access_token']"
   ]
  },
  {
   "cell_type": "markdown",
   "id": "1a75d3b7",
   "metadata": {},
   "source": [
    "## 3. Setting up the Model\n",
    "\n",
    "Here, we set up the IBM Watsonx language model with the obtained credentials and specify parameters for text generation."
   ]
  },
  {
   "cell_type": "code",
   "execution_count": 3,
   "id": "a442f4b1",
   "metadata": {},
   "outputs": [],
   "source": [
    "from ibm_watsonx_ai.foundation_models import Model\n",
    "from ibm_watsonx_ai.metanames import GenTextParamsMetaNames as GenParams\n",
    "from ibm_watsonx_ai import Credentials\n",
    "\n",
    "# Set up the credentials\n",
    "credentials = Credentials(\n",
    "    url=\"https://eu-de.ml.cloud.ibm.com\",\n",
    "    token=ACCESS_TOKEN\n",
    ")\n",
    "\n",
    "parameters = {\n",
    "    \"decoding_method\": \"greedy\",\n",
    "    \"max_new_tokens\": 1000,\n",
    "    \"repetition_penalty\": 1.0\n",
    "}\n",
    "\n",
    "model = Model(\n",
    "    model_id=os.getenv(\"MODEL_ID\"),\n",
    "    params=parameters,\n",
    "    credentials=credentials,\n",
    "    project_id=os.getenv(\"PROJECT_ID\")\n",
    ")"
   ]
  },
  {
   "cell_type": "markdown",
   "id": "5e29d978",
   "metadata": {},
   "source": [
    "## 4. Setting up ChromaDB\n",
    "\n",
    "We initialize ChromaDB for vector storage and retrieval, which will be used to store and query document embeddings."
   ]
  },
  {
   "cell_type": "code",
   "execution_count": 4,
   "id": "a29758dd",
   "metadata": {},
   "outputs": [
    {
     "name": "stderr",
     "output_type": "stream",
     "text": [
      "/opt/homebrew/lib/python3.11/site-packages/tqdm/auto.py:21: TqdmWarning: IProgress not found. Please update jupyter and ipywidgets. See https://ipywidgets.readthedocs.io/en/stable/user_install.html\n",
      "  from .autonotebook import tqdm as notebook_tqdm\n"
     ]
    },
    {
     "name": "stdout",
     "output_type": "stream",
     "text": [
      "Created new collection: nooran_x_allam\n"
     ]
    }
   ],
   "source": [
    "import chromadb\n",
    "from chromadb.utils import embedding_functions\n",
    "\n",
    "# Chroma setup\n",
    "chroma_client = chromadb.Client()\n",
    "embedding_function = embedding_functions.SentenceTransformerEmbeddingFunction(model_name=\"intfloat/multilingual-e5-base\")\n",
    "\n",
    "collection_name = \"nooran_x_allam\"\n",
    "try:\n",
    "    collection = chroma_client.get_collection(name=collection_name)\n",
    "    print(f\"Using existing collection: {collection_name}\")\n",
    "except ValueError:\n",
    "    collection = chroma_client.create_collection(name=collection_name, embedding_function=embedding_function)\n",
    "    print(f\"Created new collection: {collection_name}\")"
   ]
  },
  {
   "cell_type": "markdown",
   "id": "2c48e0a5",
   "metadata": {},
   "source": [
    "## 5. Defining Helper Functions\n",
    "\n",
    "We define several helper functions for text extraction from PDFs, text cleaning, chunking, indexing documents, querying similar documents, constructing prompts, getting responses from the model, and parsing the model's JSON response."
   ]
  },
  {
   "cell_type": "code",
   "execution_count": 5,
   "id": "fe2f6b71",
   "metadata": {},
   "outputs": [],
   "source": [
    "import pypdfium2 as pdfium\n",
    "import re\n",
    "import json\n",
    "\n",
    "def extract_text_from_pdf(pdf_path):\n",
    "    \"\"\"Extract text from a PDF file using pypdfium2.\"\"\"\n",
    "    text = \"\"\n",
    "    pdf = pdfium.PdfDocument(pdf_path)  # Create PdfDocument object\n",
    "    try:\n",
    "        for page in pdf:\n",
    "            textpage = page.get_textpage()\n",
    "            text += textpage.get_text_bounded()\n",
    "    finally:\n",
    "        pdf.close()\n",
    "    return text\n",
    "\n",
    "def clean_and_normalize_arabic_text(text):\n",
    "    \"\"\"Clean and normalize the extracted text, focusing on Arabic characters and specific issues.\"\"\"\n",
    "    # Define the Arabic character range\n",
    "    arabic_range = r'[\\u0600-\\u06FF\\u0750-\\u077F\\u08A0-\\u08FF\\uFB50-\\uFDCF\\uFDF0-\\uFEFF]'\n",
    "\n",
    "    # Common replacements for misencoded characters\n",
    "    replacements = {\n",
    "        \"û\": \"ل\",\n",
    "    }\n",
    "\n",
    "    # Apply replacements\n",
    "    for wrong, correct in replacements.items():\n",
    "        text = text.replace(wrong, correct)\n",
    "\n",
    "    # Handle specific cases\n",
    "    text = text.replace(\"؟\", \"?\")  # Replace combination with single character\n",
    "    text = text.replace(\"٬\", \",\")  # Remove specific combination of characters\n",
    "\n",
    "    # Keep only Arabic characters, numbers, and basic punctuation\n",
    "    cleaned_text = re.sub(f'[^{arabic_range}\\w\\s\\.,:!؟]', '', text)\n",
    "\n",
    "    # Normalize whitespace\n",
    "    cleaned_text = re.sub(r'\\s+', ' ', cleaned_text).strip()\n",
    "\n",
    "    return cleaned_text\n",
    "\n",
    "def chunk_text(text, chunk_size=700):\n",
    "    \"\"\"Split text into chunks of specified size.\"\"\"\n",
    "    return [text[i:i+chunk_size] for i in range(0, len(text), chunk_size)]\n",
    "\n",
    "def index_document(text, id):\n",
    "    \"\"\"Index a document in ChromaDB with specified chunk size.\"\"\"\n",
    "    chunks = chunk_text(text)\n",
    "    for i, chunk in enumerate(chunks):\n",
    "        chunk_id = f\"{id}-chunk-{i}\"\n",
    "        collection.add(\n",
    "            documents=[chunk],\n",
    "            ids=[chunk_id]\n",
    "        )\n",
    "    print(f\"Indexed document {id} in {len(chunks)} chunks.\")\n",
    "\n",
    "def search_similar_documents(query, top_k=5):\n",
    "    \"\"\"Search for similar documents in ChromaDB.\"\"\"\n",
    "    results = collection.query(\n",
    "        query_texts=[query],\n",
    "        n_results=top_k\n",
    "    )\n",
    "    print(\"Raw query results:\", results)  # Debug print\n",
    "    return results['documents'][0] if results['documents'] else []\n",
    "\n",
    "def construct_prompt(keywords, retrieved_contexts, age=6):\n",
    "    \"\"\"Construct the prompt for the language model using the keywords and retrieved contexts.\"\"\"\n",
    "    # Join retrieved contexts\n",
    "    context = \"\\n\".join(retrieved_contexts)\n",
    "    \n",
    "    # Construct the system prompt with rules and guidelines\n",
    "    system_prompt = (\n",
    "        \"قم بإنشاء قصة باستخدام مجموعة كلمات تُعطى لك، مع اتباع الأسلوب المُستخدم في الأمثلة التالية. اجعل القصة لطيفة وسهلة وموجهة لحديثي تعلم اللغة العربية. \\n\"\n",
    "        \"اريد عنواناً للقصة مع نبذة قصيرة عنها وترجمتها إلى الإنجليزية، كذلك قم بتقييم العمر المناسب للقصة بإعطاء حد أدنى وحد أقصى للعمر.\\n\"\n",
    "        f\"{context}\\n\\n\"\n",
    "        \"**القواعد:**\\n\"\n",
    "        \"- لا تقدم أي كلام خارج عن القصة.\\n\"\n",
    "        \"- استخدم كلمات لطيفة موجهة للأطفال.\\n\"\n",
    "        \"**المدخل:**\\n\"\n",
    "        \"كلمات متفرقة تعلمها الطفل حديثا.\\n\"\n",
    "        \"عمر الطفل.\\n\"\n",
    "        \"**المخرج المتوقع:**\\n\"\n",
    "        \"{{\\n\"\n",
    "        '  \"title\": \"title in Arabic\",\\n'\n",
    "        '  \"title_en\": \"Title in English\",\\n'\n",
    "        '  \"brief\": \"Brief in Arabic\",\\n'\n",
    "        '  \"brief_en\": \"Brief in English\",\\n'\n",
    "        '  \"content\": [\"first sentence in Arabic\", \"second sentence in Arabic\", ...],\\n'\n",
    "        '  \"content_en\": [\"First sentence in English\", \"Second sentence in English\", ...],\\n'\n",
    "        '  \"min_age\": min_age,\\n'\n",
    "        '  \"max_age\": max_age,\\n'\n",
    "        \"}}\\n\\n\"\n",
    "        \"مثال للمدخل:\\n\\n\"\n",
    "        \"باستخدام الكلمات التالية، قم باكمال القصة التالية\\n\"\n",
    "        \"كان يامكان، كان هناك\\n\"\n",
    "        \"الكلمات: مزرعة، دجاج، أبقار، خرفان، حيوانات\\n\"\n",
    "        f\"العمر: {age}\\n\\n\"\n",
    "        \"لا تكتب أي شيء واي ملاحظة بخلاف المخرج المتوقع، على شكل object.\\n\"\n",
    "        \"مثل هذا المخرج يجب أن يكون الناتج النهائي للقصة.\\n\\n\"\n",
    "        \"المخرج:\\n\"\n",
    "        \"{{\\n\"\n",
    "        '  \"title\": \"الدجاجة الذهبية\",\\n'\n",
    "        '  \"title_en\": \"The Golden Chicken Story\",\\n'\n",
    "        '  \"brief\": \"قصة عن مزارع وزوجته يملكان دجاجة ذهبية تضع بيضات ذهبية\",\\n'\n",
    "        '  \"brief_en\": \"A story about a farmer and his wife who own a golden chicken that lays golden eggs\",\\n'\n",
    "        '  \"content\": [\"يُحكى أنّ مزارعاً وزوجته...\"],\\n'\n",
    "        '  \"content_en\": [\"It is said that a farmer and his wife...\"],\\n'\n",
    "        f'  \"min_age\": 6,\\n'\n",
    "        f'  \"max_age\": 10,\\n'\n",
    "        \"}}\\n\\n\"\n",
    "        \"IMPORTANT: Keep the output result in the same format as the expected output below\\n\\n\"\n",
    "        \"{{\\n\"\n",
    "        '  \"title\": \"title in Arabic\",\\n'\n",
    "        '  \"title_en\": \"Title in English\",\\n'\n",
    "        '  \"brief\": \"Brief in Arabic\",\\n'\n",
    "        '  \"brief_en\": \"Brief in English\",\\n'\n",
    "        '  \"content\": [\"first sentence in Arabic\", \"second sentence in Arabic\", ...],\\n'\n",
    "        '  \"content_en\": [\"First sentence in English\", \"Second sentence in English\", ...],\\n'\n",
    "        '  \"min_age\": min_age,\\n'\n",
    "        '  \"max_age\": max_age,\\n'\n",
    "        \"}}\"\n",
    "    )\n",
    "\n",
    "    query = (\"باستخدام الكلمات التالية، قم باكمال القصة التالية\\n\"\n",
    "             \"كان يامكان، كان هناك\\n\"\n",
    "             \"الكلمات:\" f\"{keywords}\\n\")\n",
    "\n",
    "    # Construct the final prompt\n",
    "    prompt = f\"<<SYS>>{system_prompt}<<SYS>>[INST]{query}[/INST]\"\n",
    "\n",
    "    return prompt\n",
    "\n",
    "def get_watsonx_response(prompt):\n",
    "    \"\"\"Get the response from the IBM Watsonx model.\"\"\"\n",
    "    response = model.generate_text(prompt=prompt)\n",
    "    return response\n",
    "\n",
    "def parse_llm_response(response):\n",
    "    \"\"\"Parse the JSON response from the language model.\"\"\"\n",
    "    # Use regex to extract the JSON part within the first set of braces\n",
    "    match = re.search(r\"\\{\\s*\\\"title\\\".*?\\}\\s*\", response, re.DOTALL)\n",
    "    \n",
    "    if match:\n",
    "        cleaned_response = match.group(0)  # Extract the JSON portion\n",
    "        \n",
    "        # Remove any trailing commas before a closing brace\n",
    "        cleaned_response = re.sub(r\",\\s*}\", \"}\", cleaned_response)\n",
    "        \n",
    "        # Attempt to parse the extracted JSON content\n",
    "        try:\n",
    "            parsed_response = json.loads(cleaned_response)\n",
    "        except json.JSONDecodeError as e:\n",
    "            print(\"Error decoding JSON:\", e)\n",
    "            parsed_response = {}\n",
    "    else:\n",
    "        print(\"Error: JSON structure not found.\")\n",
    "        parsed_response = {}\n",
    "    \n",
    "    return parsed_response"
   ]
  },
  {
   "cell_type": "markdown",
   "id": "130b1f43",
   "metadata": {},
   "source": [
    "## 6. Indexing PDF Documents\n",
    "\n",
    "We process PDF files located in the `pdf_files` directory, extract text from them, clean and normalize the Arabic text, and index them into ChromaDB for similarity search."
   ]
  },
  {
   "cell_type": "code",
   "execution_count": 6,
   "id": "e45d6d0b",
   "metadata": {},
   "outputs": [
    {
     "name": "stdout",
     "output_type": "stream",
     "text": [
      "Processing PDF: pdf_files/twenty-stories.pdf\n",
      "Indexed document pdf-0 in 12 chunks.\n"
     ]
    }
   ],
   "source": [
    "import glob\n",
    "\n",
    "pdf_files = glob.glob(\"pdf_files/*.pdf\")\n",
    "for i, pdf_file in enumerate(pdf_files):\n",
    "    print(f\"Processing PDF: {pdf_file}\")\n",
    "    pdf_text = extract_text_from_pdf(pdf_file)\n",
    "    clean_text = clean_and_normalize_arabic_text(pdf_text)\n",
    "    index_document(clean_text, f\"pdf-{i}\")"
   ]
  },
  {
   "cell_type": "markdown",
   "id": "b5f9a8e1",
   "metadata": {},
   "source": [
    "## 7. Constructing and Executing a Query\n",
    "\n",
    "We define a query with specific Arabic keywords, search for similar documents in ChromaDB, construct a prompt, and get a response from the IBM Watsonx model."
   ]
  },
  {
   "cell_type": "code",
   "execution_count": 7,
   "id": "c0e38803",
   "metadata": {},
   "outputs": [
    {
     "name": "stdout",
     "output_type": "stream",
     "text": [
      "Raw query results: {'ids': [['pdf-0-chunk-0', 'pdf-0-chunk-1', 'pdf-0-chunk-10', 'pdf-0-chunk-3', 'pdf-0-chunk-4']], 'distances': [[0.3539023697376251, 0.36996227502822876, 0.39220285415649414, 0.4050246775150299, 0.41345834732055664]], 'metadatas': [[None, None, None, None, None]], 'embeddings': None, 'documents': [['الرجل العجوز في القرية يُحكى أ ّن رجال عجو ًزا كان يعيش في قرية بعيدة، وكان أتعس شخص على وجه األرض، حتى أ ّن ك ّل سكان القرية سئموا منه، ألنَّه كان ُمحبَ . ًطا على الدوام، وال يتوقّف عن التذمر والشكوى، ولم يكن يمّر يوم دون أن تراه في مزاج سيء ّما تق َّدم به الس ّن، ازداد كالمه سو ًءا وسلبية... وقد كان س ّكان القرية ينجنّبونه قدر اإلمكان، فسوء ح ّظه أصبح ُمعديًا. وكُل ّي شخص على سعادته بالقرب منه، فقد كان ينشر مشاعر الحزن والتعاسة لك ّل من حوله ويستحيل أن يحافظ أ . لكن، وفي أحد األيام وحينما بلغ العجوز من العمر ثمانين عا ًما، حدث شيء غريب، وبدأت إشاعة عجيبة في االنتشار: \" -الرجل العجوز سعيد اليوم، إنه ال يتذّمر من شيء، واالبتسامة ترتسم على محيّاه، بل إن مالمح وجهه قد أشرقت وتغيّرت\"! تج ّمع ال', 'قرويون عند منزل العجوز، وبادره أحدهم بالسؤال: \" -ما الذي حدث لك?\" وهنا أجاب العجوز : ّم ق ّررت بعدها أن أعيش من دونها، وأن - \"ال شيء مهّم! ... لقد قضي ُت من عمري 80 عا ًما أطارد السعادة بال طائل. ث أستمتع بحياتي وحسب، لهذا السبب أنا سعيد اآلن!\" الرجل الحكيم يُحكى أنَّه كان هناك رجل حكيم يأتي إليه الناس من ك ّل مكان الستشارته. لكنهم كانوا في ك ّل مّرة يح ّدثونه عن نفس المشاكل والمصاعب التي تواجههم، حتى سئم منهم. وفي يوم من األيام، جمعهم الرجل الحكيم وق ّص عليهم نكتة طريفة، فانفجر الجميع ضاحكين. ّم ما لبث أن ق ّص الطرفة مّرة ثالثة، فلم يضحك بعد بضع دقائق، ق ّص عليهم النكتة ذاتها مّرة أخرى، فابتسم عدد قليل منهم. ث أحد. عندها ابتسم الحكيم وقال: - \"ال يمكنكم أن تضحكوا على النكتة نفسها أكثر من مّر', 'لحال مع الب ها في تغيير العالم من حولنا، وخلق شيء إيجابي جديد. م منها ونستغل ّ ّم أننا نتعل يض. أ الثعلب والعنب في أحد األيام كان هنالك ثعلب يتم ّشى في الغابة، وفجأة رأى عنقو َد عنب يتدل . ّى من أحد األغصان المرتفعة \" -هذا ما كنت أحتاجه ألطفئ عطشي!\" قال الثعلب لنفسه مسرو ًرا. التقاط العنقود، لكنه فشل. فحاول مّرة ثانية وثالثة، واستمر في المحاولة دون ّم قفز محاوالً تراجع بضع خطوات للوراء ث جدوى. أخي ًرا، وبعد أن فقد األمل سار مبتعًدا عن الشجرة، وهو يقول متكبّ ًرا: ّي حال...لم أعد أريدها\"! \" -إنها ثمار حامضة على أ العبرة المستفادة: من خالل هذه القصة القصيرة نكتشف أنّه من السهل للغاية أن تنتقد ما ال تستطيع الوصول إليه.األسد والخادم المسكين يُحكى أ َّن أحد الخدم كان يتعّرض م من شوكة َّ لمعاملة سي', 'وقتًا عصيبًا في الخروج من الماء. فتعل الصديق الحقيقي وهي من القصص القصيرة والمعبرة، تدور الق ّصة حول صديقين كانا يسيران في وسط الصحراء. وفي مرحلة ما من رحلتهما تشاجرا شجا ًرا كبي ًرا، فصفع أحدهما اآلخر على وجهه. شعر ذلك الذي تعّرض للضرب باأللم والحزن الشديدين، لكن ومن دون أن يقول كلمة واحدة، كتب على الرمال: \" -اليوم صديقي المق ّرب صفعني على وجهي.\" استمّرا بعدها في المسير إلى أن وصال إلى واحة جميلة، فق ّررا االستحمام في بحيرة الواحة، لك ّن الشاب الذي تعّرض للصفع سابقًا علق في مستنقع للوحل وبدأ بالغرق. فسارع إليه صديقه وأنقذه. في حينها كتب الشاب الذي كاد يغرق على صخرة كبيرة، الجملة التالية: \" -اليوم صديقي المق ّرب أنقذ حياتي.\" وهنا سأله الصديق الذي صفعه وأنقذه: \" -بعد أن آذيتك، كتبت على الرمال', '، واآلن أنت تكتب على الصخر، فلماذا ذلك?\" أجاب الشاب: - \"حينما يؤذينا أحدهم علينا أن نكتب إساءته على الرمال حتى تمسحها رياح النسيان. لكن عندما يق ّدم لنا أحدهم معروفًا الب ّد ا\".أن نحفره على الصخر كي ال ننساه أب ًدا وال تمحوه الريح إطالقً الطلبة األربعة األذكياء كان هنالك أربعة طالّب جامعيين، قضوا ليلتهم في االحتفال والمرح ولم يستعّدوا المتحانهم الذي تق ّرر عقده في اليوم التالي. وفي الصباح اتفق أربعتهم على خ ّطة ذكية. قاموا بتلطيخ أنفسهم بالوحل، واتجهوا مباشرة إلى عميد كليتهم، فأخبروه أنّهم ذهبوا لحضور حفل زفاف باألمس، وفي طريق عودتهم انفجر أحد إطارات سيارتهم واضط ّروا نتيجة لذلك لدفع السيارة طول الطريق. ولهذا السبب فهم ليسوا في وضع مناسب يسمح لهم بخوض االختبار . ّم أخبرهم أنّه سيؤجل امتحانهم']], 'uris': None, 'data': None}\n"
     ]
    }
   ],
   "source": [
    "query = \" الحب، السلام، الاهل، الصداقة، السعادة، الفرح\"\n",
    "similar_docs = search_similar_documents(query)\n",
    "prompt = construct_prompt(query, similar_docs)\n",
    "response = get_watsonx_response(prompt)"
   ]
  },
  {
   "cell_type": "markdown",
   "id": "53150e23",
   "metadata": {},
   "source": [
    "## 8. Parsing the Model Response\n",
    "\n",
    "We parse the JSON response from the language model to extract the structured information, such as title, brief, content, and age range."
   ]
  },
  {
   "cell_type": "code",
   "execution_count": 8,
   "id": "9c37dbbf",
   "metadata": {},
   "outputs": [],
   "source": [
    "parsed_response = parse_llm_response(response)"
   ]
  },
  {
   "cell_type": "markdown",
   "id": "c1609840",
   "metadata": {},
   "source": [
    "## 9. Displaying the Results\n",
    "\n",
    "Finally, we display the constructed prompt, retrieved documents, the raw response from the model, and the parsed structured response."
   ]
  },
  {
   "cell_type": "code",
   "execution_count": 9,
   "id": "e60e3eeb",
   "metadata": {},
   "outputs": [
    {
     "name": "stdout",
     "output_type": "stream",
     "text": [
      "\n",
      "Prompt:\n",
      "\n",
      "<<SYS>>قم بإنشاء قصة باستخدام مجموعة كلمات تُعطى لك، مع اتباع الأسلوب المُستخدم في الأمثلة التالية. اجعل القصة لطيفة وسهلة وموجهة لحديثي تعلم اللغة العربية. \n",
      "اريد عنواناً للقصة مع نبذة قصيرة عنها وترجمتها إلى الإنجليزية، كذلك قم بتقييم العمر المناسب للقصة بإعطاء حد أدنى وحد أقصى للعمر.\n",
      "الرجل العجوز في القرية يُحكى أ ّن رجال عجو ًزا كان يعيش في قرية بعيدة، وكان أتعس شخص على وجه األرض، حتى أ ّن ك ّل سكان القرية سئموا منه، ألنَّه كان ُمحبَ . ًطا على الدوام، وال يتوقّف عن التذمر والشكوى، ولم يكن يمّر يوم دون أن تراه في مزاج سيء ّما تق َّدم به الس ّن، ازداد كالمه سو ًءا وسلبية... وقد كان س ّكان القرية ينجنّبونه قدر اإلمكان، فسوء ح ّظه أصبح ُمعديًا. وكُل ّي شخص على سعادته بالقرب منه، فقد كان ينشر مشاعر الحزن والتعاسة لك ّل من حوله ويستحيل أن يحافظ أ . لكن، وفي أحد األيام وحينما بلغ العجوز من العمر ثمانين عا ًما، حدث شيء غريب، وبدأت إشاعة عجيبة في االنتشار: \" -الرجل العجوز سعيد اليوم، إنه ال يتذّمر من شيء، واالبتسامة ترتسم على محيّاه، بل إن مالمح وجهه قد أشرقت وتغيّرت\"! تج ّمع ال\n",
      "قرويون عند منزل العجوز، وبادره أحدهم بالسؤال: \" -ما الذي حدث لك?\" وهنا أجاب العجوز : ّم ق ّررت بعدها أن أعيش من دونها، وأن - \"ال شيء مهّم! ... لقد قضي ُت من عمري 80 عا ًما أطارد السعادة بال طائل. ث أستمتع بحياتي وحسب، لهذا السبب أنا سعيد اآلن!\" الرجل الحكيم يُحكى أنَّه كان هناك رجل حكيم يأتي إليه الناس من ك ّل مكان الستشارته. لكنهم كانوا في ك ّل مّرة يح ّدثونه عن نفس المشاكل والمصاعب التي تواجههم، حتى سئم منهم. وفي يوم من األيام، جمعهم الرجل الحكيم وق ّص عليهم نكتة طريفة، فانفجر الجميع ضاحكين. ّم ما لبث أن ق ّص الطرفة مّرة ثالثة، فلم يضحك بعد بضع دقائق، ق ّص عليهم النكتة ذاتها مّرة أخرى، فابتسم عدد قليل منهم. ث أحد. عندها ابتسم الحكيم وقال: - \"ال يمكنكم أن تضحكوا على النكتة نفسها أكثر من مّر\n",
      "لحال مع الب ها في تغيير العالم من حولنا، وخلق شيء إيجابي جديد. م منها ونستغل ّ ّم أننا نتعل يض. أ الثعلب والعنب في أحد األيام كان هنالك ثعلب يتم ّشى في الغابة، وفجأة رأى عنقو َد عنب يتدل . ّى من أحد األغصان المرتفعة \" -هذا ما كنت أحتاجه ألطفئ عطشي!\" قال الثعلب لنفسه مسرو ًرا. التقاط العنقود، لكنه فشل. فحاول مّرة ثانية وثالثة، واستمر في المحاولة دون ّم قفز محاوالً تراجع بضع خطوات للوراء ث جدوى. أخي ًرا، وبعد أن فقد األمل سار مبتعًدا عن الشجرة، وهو يقول متكبّ ًرا: ّي حال...لم أعد أريدها\"! \" -إنها ثمار حامضة على أ العبرة المستفادة: من خالل هذه القصة القصيرة نكتشف أنّه من السهل للغاية أن تنتقد ما ال تستطيع الوصول إليه.األسد والخادم المسكين يُحكى أ َّن أحد الخدم كان يتعّرض م من شوكة َّ لمعاملة سي\n",
      "وقتًا عصيبًا في الخروج من الماء. فتعل الصديق الحقيقي وهي من القصص القصيرة والمعبرة، تدور الق ّصة حول صديقين كانا يسيران في وسط الصحراء. وفي مرحلة ما من رحلتهما تشاجرا شجا ًرا كبي ًرا، فصفع أحدهما اآلخر على وجهه. شعر ذلك الذي تعّرض للضرب باأللم والحزن الشديدين، لكن ومن دون أن يقول كلمة واحدة، كتب على الرمال: \" -اليوم صديقي المق ّرب صفعني على وجهي.\" استمّرا بعدها في المسير إلى أن وصال إلى واحة جميلة، فق ّررا االستحمام في بحيرة الواحة، لك ّن الشاب الذي تعّرض للصفع سابقًا علق في مستنقع للوحل وبدأ بالغرق. فسارع إليه صديقه وأنقذه. في حينها كتب الشاب الذي كاد يغرق على صخرة كبيرة، الجملة التالية: \" -اليوم صديقي المق ّرب أنقذ حياتي.\" وهنا سأله الصديق الذي صفعه وأنقذه: \" -بعد أن آذيتك، كتبت على الرمال\n",
      "، واآلن أنت تكتب على الصخر، فلماذا ذلك?\" أجاب الشاب: - \"حينما يؤذينا أحدهم علينا أن نكتب إساءته على الرمال حتى تمسحها رياح النسيان. لكن عندما يق ّدم لنا أحدهم معروفًا الب ّد ا\".أن نحفره على الصخر كي ال ننساه أب ًدا وال تمحوه الريح إطالقً الطلبة األربعة األذكياء كان هنالك أربعة طالّب جامعيين، قضوا ليلتهم في االحتفال والمرح ولم يستعّدوا المتحانهم الذي تق ّرر عقده في اليوم التالي. وفي الصباح اتفق أربعتهم على خ ّطة ذكية. قاموا بتلطيخ أنفسهم بالوحل، واتجهوا مباشرة إلى عميد كليتهم، فأخبروه أنّهم ذهبوا لحضور حفل زفاف باألمس، وفي طريق عودتهم انفجر أحد إطارات سيارتهم واضط ّروا نتيجة لذلك لدفع السيارة طول الطريق. ولهذا السبب فهم ليسوا في وضع مناسب يسمح لهم بخوض االختبار . ّم أخبرهم أنّه سيؤجل امتحانهم\n",
      "\n",
      "**القواعد:**\n",
      "- لا تقدم أي كلام خارج عن القصة.\n",
      "- استخدم كلمات لطيفة موجهة للأطفال.\n",
      "**المدخل:**\n",
      "كلمات متفرقة تعلمها الطفل حديثا.\n",
      "عمر الطفل.\n",
      "**المخرج المتوقع:**\n",
      "{{\n",
      "  \"title\": \"title in Arabic\",\n",
      "  \"title_en\": \"Title in English\",\n",
      "  \"brief\": \"Brief in Arabic\",\n",
      "  \"brief_en\": \"Brief in English\",\n",
      "  \"content\": [\"first sentence in Arabic\", \"second sentence in Arabic\", ...],\n",
      "  \"content_en\": [\"First sentence in English\", \"Second sentence in English\", ...],\n",
      "  \"min_age\": min_age,\n",
      "  \"max_age\": max_age,\n",
      "}}\n",
      "\n",
      "مثال للمدخل:\n",
      "\n",
      "باستخدام الكلمات التالية، قم باكمال القصة التالية\n",
      "كان يامكان، كان هناك\n",
      "الكلمات: مزرعة، دجاج، أبقار، خرفان، حيوانات\n",
      "العمر: 6\n",
      "\n",
      "لا تكتب أي شيء واي ملاحظة بخلاف المخرج المتوقع، على شكل object.\n",
      "مثل هذا المخرج يجب أن يكون الناتج النهائي للقصة.\n",
      "\n",
      "المخرج:\n",
      "{{\n",
      "  \"title\": \"الدجاجة الذهبية\",\n",
      "  \"title_en\": \"The Golden Chicken Story\",\n",
      "  \"brief\": \"قصة عن مزارع وزوجته يملكان دجاجة ذهبية تضع بيضات ذهبية\",\n",
      "  \"brief_en\": \"A story about a farmer and his wife who own a golden chicken that lays golden eggs\",\n",
      "  \"content\": [\"يُحكى أنّ مزارعاً وزوجته...\"],\n",
      "  \"content_en\": [\"It is said that a farmer and his wife...\"],\n",
      "  \"min_age\": 6,\n",
      "  \"max_age\": 10,\n",
      "}}\n",
      "\n",
      "IMPORTANT: Keep the output result in the same format as the expected output below\n",
      "\n",
      "{{\n",
      "  \"title\": \"title in Arabic\",\n",
      "  \"title_en\": \"Title in English\",\n",
      "  \"brief\": \"Brief in Arabic\",\n",
      "  \"brief_en\": \"Brief in English\",\n",
      "  \"content\": [\"first sentence in Arabic\", \"second sentence in Arabic\", ...],\n",
      "  \"content_en\": [\"First sentence in English\", \"Second sentence in English\", ...],\n",
      "  \"min_age\": min_age,\n",
      "  \"max_age\": max_age,\n",
      "}}<<SYS>>[INST]باستخدام الكلمات التالية، قم باكمال القصة التالية\n",
      "كان يامكان، كان هناك\n",
      "الكلمات: الحب، السلام، الاهل، الصداقة، السعادة، الفرح\n",
      "[/INST]\n",
      "\n",
      "Retrieved Documents:\n",
      "\n",
      "1. الرجل العجوز في القرية يُحكى أ ّن رجال عجو ًزا كان يعيش في قرية بعيدة، وكان أتعس شخص على وجه األرض، حتى أ ّن ك ّل سكان القرية سئموا منه، ألنَّه كان ُمحبَ . ًطا على الدوام، وال يتوقّف عن التذمر والشكوى، ولم يكن يمّر يوم دون أن تراه في مزاج سيء ّما تق َّدم به الس ّن، ازداد كالمه سو ًءا وسلبية... وقد كان س ّكان القرية ينجنّبونه قدر اإلمكان، فسوء ح ّظه أصبح ُمعديًا. وكُل ّي شخص على سعادته بالقرب منه، فقد كان ينشر مشاعر الحزن والتعاسة لك ّل من حوله ويستحيل أن يحافظ أ . لكن، وفي أحد األيام وحينما بلغ العجوز من العمر ثمانين عا ًما، حدث شيء غريب، وبدأت إشاعة عجيبة في االنتشار: \" -الرجل العجوز سعيد اليوم، إنه ال يتذّمر من شيء، واالبتسامة ترتسم على محيّاه، بل إن مالمح وجهه قد أشرقت وتغيّرت\"! تج ّمع ال...\n",
      "2. قرويون عند منزل العجوز، وبادره أحدهم بالسؤال: \" -ما الذي حدث لك?\" وهنا أجاب العجوز : ّم ق ّررت بعدها أن أعيش من دونها، وأن - \"ال شيء مهّم! ... لقد قضي ُت من عمري 80 عا ًما أطارد السعادة بال طائل. ث أستمتع بحياتي وحسب، لهذا السبب أنا سعيد اآلن!\" الرجل الحكيم يُحكى أنَّه كان هناك رجل حكيم يأتي إليه الناس من ك ّل مكان الستشارته. لكنهم كانوا في ك ّل مّرة يح ّدثونه عن نفس المشاكل والمصاعب التي تواجههم، حتى سئم منهم. وفي يوم من األيام، جمعهم الرجل الحكيم وق ّص عليهم نكتة طريفة، فانفجر الجميع ضاحكين. ّم ما لبث أن ق ّص الطرفة مّرة ثالثة، فلم يضحك بعد بضع دقائق، ق ّص عليهم النكتة ذاتها مّرة أخرى، فابتسم عدد قليل منهم. ث أحد. عندها ابتسم الحكيم وقال: - \"ال يمكنكم أن تضحكوا على النكتة نفسها أكثر من مّر...\n",
      "3. لحال مع الب ها في تغيير العالم من حولنا، وخلق شيء إيجابي جديد. م منها ونستغل ّ ّم أننا نتعل يض. أ الثعلب والعنب في أحد األيام كان هنالك ثعلب يتم ّشى في الغابة، وفجأة رأى عنقو َد عنب يتدل . ّى من أحد األغصان المرتفعة \" -هذا ما كنت أحتاجه ألطفئ عطشي!\" قال الثعلب لنفسه مسرو ًرا. التقاط العنقود، لكنه فشل. فحاول مّرة ثانية وثالثة، واستمر في المحاولة دون ّم قفز محاوالً تراجع بضع خطوات للوراء ث جدوى. أخي ًرا، وبعد أن فقد األمل سار مبتعًدا عن الشجرة، وهو يقول متكبّ ًرا: ّي حال...لم أعد أريدها\"! \" -إنها ثمار حامضة على أ العبرة المستفادة: من خالل هذه القصة القصيرة نكتشف أنّه من السهل للغاية أن تنتقد ما ال تستطيع الوصول إليه.األسد والخادم المسكين يُحكى أ َّن أحد الخدم كان يتعّرض م من شوكة َّ لمعاملة سي...\n",
      "4. وقتًا عصيبًا في الخروج من الماء. فتعل الصديق الحقيقي وهي من القصص القصيرة والمعبرة، تدور الق ّصة حول صديقين كانا يسيران في وسط الصحراء. وفي مرحلة ما من رحلتهما تشاجرا شجا ًرا كبي ًرا، فصفع أحدهما اآلخر على وجهه. شعر ذلك الذي تعّرض للضرب باأللم والحزن الشديدين، لكن ومن دون أن يقول كلمة واحدة، كتب على الرمال: \" -اليوم صديقي المق ّرب صفعني على وجهي.\" استمّرا بعدها في المسير إلى أن وصال إلى واحة جميلة، فق ّررا االستحمام في بحيرة الواحة، لك ّن الشاب الذي تعّرض للصفع سابقًا علق في مستنقع للوحل وبدأ بالغرق. فسارع إليه صديقه وأنقذه. في حينها كتب الشاب الذي كاد يغرق على صخرة كبيرة، الجملة التالية: \" -اليوم صديقي المق ّرب أنقذ حياتي.\" وهنا سأله الصديق الذي صفعه وأنقذه: \" -بعد أن آذيتك، كتبت على الرمال...\n",
      "5. ، واآلن أنت تكتب على الصخر، فلماذا ذلك?\" أجاب الشاب: - \"حينما يؤذينا أحدهم علينا أن نكتب إساءته على الرمال حتى تمسحها رياح النسيان. لكن عندما يق ّدم لنا أحدهم معروفًا الب ّد ا\".أن نحفره على الصخر كي ال ننساه أب ًدا وال تمحوه الريح إطالقً الطلبة األربعة األذكياء كان هنالك أربعة طالّب جامعيين، قضوا ليلتهم في االحتفال والمرح ولم يستعّدوا المتحانهم الذي تق ّرر عقده في اليوم التالي. وفي الصباح اتفق أربعتهم على خ ّطة ذكية. قاموا بتلطيخ أنفسهم بالوحل، واتجهوا مباشرة إلى عميد كليتهم، فأخبروه أنّهم ذهبوا لحضور حفل زفاف باألمس، وفي طريق عودتهم انفجر أحد إطارات سيارتهم واضط ّروا نتيجة لذلك لدفع السيارة طول الطريق. ولهذا السبب فهم ليسوا في وضع مناسب يسمح لهم بخوض االختبار . ّم أخبرهم أنّه سيؤجل امتحانهم...\n",
      "\n",
      "Watsonx Response:\n",
      "\n",
      " {{\n",
      "  \"title\": \"قصة الحب والسلام بين الأهل والأصدقاء\",\n",
      "  \"title_en\": \"The Story of Love, Peace, Family, and Friendship\",\n",
      "  \"brief\": \"تروي هذه القصة عن أهمية الحب والسلام بين الأهل والأصدقاء وكيف يساهمان في نشر السعادة والفرح\",\n",
      "  \"brief_en\": \"This story tells about the importance of love and peace among family and friends, and how they contribute to spreading happiness and joy\",\n",
      "  \"content\": [\"في يوم من الأيام، في قرية صغيرة وهادئة...\"],\n",
      "  \"content_en\": [\"Once upon a time, in a small and peaceful village...\"],\n",
      "  \"min_age\": 6,\n",
      "  \"max_age\": 10,\n",
      "}}\n",
      "\n",
      "في يوم من الأيام، في قرية صغيرة وهادئة، عاش أهل القرية في تناغم تام مع بعضهم البعض. كانوا يحبون بعضهم البعض ويتشاركون الأفراح والأحزان. كانت القرية مليئة بالحب والسلام، حيث كان الأهل يعتنون بأبنائهم ويغرسون فيهم قيم الخير والتعاون.\n",
      "\n",
      "كان الأطفال يلعبون معًا في الحقول، يتعلمون من بعضهم البعض ويتشاركون الألعاب والأفكار. كانوا يستمتعون بأيامهم تحت أشعة الشمس الدافئة، يضحكون ويغنون أغاني الفرح والسعادة.\n",
      "\n",
      "في المساء، يجتمع الأهل والأصدقاء حول النار، يتبادلون القصص والحكايات. كانت هذه اللحظات مليئة بالدفء والمحبة، حيث يتعلم الأطفال من تجارب الكبار ويستمتعون بأحاديثهم الشيقة.\n",
      "\n",
      "مع مرور الأيام، كبر الأطفال وأصبحوا شبابًا وشابات. استمروا في نشر الحب والسلام بين أفراد القرية، محافظين على التقاليد والقيم التي تعلموها من أهلهم وأصدقائهم.\n",
      "\n",
      "في النهاية، أصبحت القرية نموذجًا يحتذى به في الحب والسلام، حيث يعيش الجميع في تناغم وتفاهم، ويساهمون في نشر السعادة والفرح في كل مكان.\n",
      "\n",
      "{{\n",
      "  \"title\": \"قصة الحب والسلام بين الأهل والأصدقاء\",\n",
      "  \"title_en\": \"The Story of Love, Peace, Family, and Friendship\",\n",
      "  \"brief\": \"تروي هذه القصة عن أهمية الحب والسلام بين الأهل والأصدقاء وكيف يساهمان في نشر السعادة والفرح\",\n",
      "  \"brief_en\": \"This story tells about the importance of love and peace among family and friends, and how they contribute to spreading happiness and joy\",\n",
      "  \"content\": [\"في يوم من الأيام، في قرية صغيرة وهادئة...\"],\n",
      "  \"content_en\": [\"Once upon a time, in a small and peaceful village...\"],\n",
      "  \"min_age\": 6,\n",
      "  \"max_age\": 10,\n",
      "}} \n",
      "\n",
      "Parsed Response:\n",
      "\n",
      "{'title': 'قصة الحب والسلام بين الأهل والأصدقاء', 'title_en': 'The Story of Love, Peace, Family, and Friendship', 'brief': 'تروي هذه القصة عن أهمية الحب والسلام بين الأهل والأصدقاء وكيف يساهمان في نشر السعادة والفرح', 'brief_en': 'This story tells about the importance of love and peace among family and friends, and how they contribute to spreading happiness and joy', 'content': ['في يوم من الأيام، في قرية صغيرة وهادئة...'], 'content_en': ['Once upon a time, in a small and peaceful village...'], 'min_age': 6, 'max_age': 10}\n"
     ]
    }
   ],
   "source": [
    "print(\"\\nPrompt:\\n\")\n",
    "print(prompt)\n",
    "\n",
    "print(\"\\nRetrieved Documents:\\n\")\n",
    "for i, doc in enumerate(similar_docs, 1):\n",
    "    print(f\"{i}. {doc}...\")\n",
    "\n",
    "print(\"\\nWatsonx Response:\\n\")\n",
    "print(response)\n",
    "print(\"\\nParsed Response:\\n\")\n",
    "print(parsed_response)"
   ]
  },
  {
   "cell_type": "markdown",
   "id": "33229a27",
   "metadata": {},
   "source": [
    "## 10. Verifying Collection Name (Optional)\n",
    "\n",
    "We retrieve and print the collection name from environment variables, if set, to verify the collection used in ChromaDB."
   ]
  },
  {
   "cell_type": "code",
   "execution_count": 10,
   "id": "02fb3e85",
   "metadata": {},
   "outputs": [
    {
     "name": "stdout",
     "output_type": "stream",
     "text": [
      "None\n"
     ]
    }
   ],
   "source": [
    "collection_name = os.getenv('nooran_x_allam')\n",
    "print(collection_name)"
   ]
  },
  {
   "cell_type": "markdown",
   "id": "8dfbde6d",
   "metadata": {},
   "source": [
    "**Note:** Ensure that all environment variables (`IBM_API_KEY`, `MODEL_ID`, `PROJECT_ID`, etc.) are correctly set in the `.env` file or your environment before running the notebook."
   ]
  }
 ],
 "metadata": {
  "kernelspec": {
   "display_name": "Python 3",
   "language": "python",
   "name": "python3"
  },
  "language_info": {
   "codemirror_mode": {
    "name": "ipython",
    "version": 3
   },
   "file_extension": ".py",
   "mimetype": "text/x-python",
   "name": "python",
   "nbconvert_exporter": "python",
   "pygments_lexer": "ipython3",
   "version": "3.11.6"
  }
 },
 "nbformat": 4,
 "nbformat_minor": 5
}
